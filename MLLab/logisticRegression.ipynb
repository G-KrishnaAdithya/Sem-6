{
 "cells": [
  {
   "cell_type": "code",
   "execution_count": 3,
   "id": "ee210206-8895-485e-946f-492e2d1a0b6c",
   "metadata": {},
   "outputs": [
    {
     "name": "stdout",
     "output_type": "stream",
     "text": [
      "   age  sex  cp  trestbps  chol  fbs  restecg  thalach  exang  oldpeak  slope  \\\n",
      "0   52    1   0       125   212    0        1      168      0      1.0      2   \n",
      "1   53    1   0       140   203    1        0      155      1      3.1      0   \n",
      "2   70    1   0       145   174    0        1      125      1      2.6      0   \n",
      "3   61    1   0       148   203    0        1      161      0      0.0      2   \n",
      "4   62    0   0       138   294    1        1      106      0      1.9      1   \n",
      "\n",
      "   ca  thal  target  \n",
      "0   2     3       0  \n",
      "1   0     3       0  \n",
      "2   0     3       0  \n",
      "3   1     3       0  \n",
      "4   3     2       0  \n",
      "Binary Classification - Logistic Regression Accuracy: 0.7951219512195122\n",
      "Confusion Matrix:\n",
      " [[73 29]\n",
      " [13 90]]\n",
      "Classification Report:\n",
      "               precision    recall  f1-score   support\n",
      "\n",
      "           0       0.85      0.72      0.78       102\n",
      "           1       0.76      0.87      0.81       103\n",
      "\n",
      "    accuracy                           0.80       205\n",
      "   macro avg       0.80      0.79      0.79       205\n",
      "weighted avg       0.80      0.80      0.79       205\n",
      "\n"
     ]
    }
   ],
   "source": [
    "import pandas as pd\n",
    "from sklearn.model_selection import train_test_split\n",
    "from sklearn.preprocessing import StandardScaler\n",
    "from sklearn.linear_model import LogisticRegression\n",
    "from sklearn.metrics import accuracy_score, confusion_matrix, classification_report\n",
    "\n",
    "# Load the dataset\n",
    "heart_data = pd.read_csv(\"heart.csv\")\n",
    "\n",
    "# Display the first few rows of the dataset to understand its structure\n",
    "print(heart_data.head())\n",
    "\n",
    "# Splitting the dataset into features (X) and target variable (y)\n",
    "X = heart_data.drop(\"target\", axis=1)\n",
    "y = heart_data[\"target\"]\n",
    "\n",
    "# Splitting the dataset into training and testing sets\n",
    "X_train, X_test, y_train, y_test = train_test_split(X, y, test_size=0.2, random_state=42)\n",
    "\n",
    "# Feature scaling (optional but often recommended)\n",
    "sc = StandardScaler()\n",
    "X_train = sc.fit_transform(X_train)\n",
    "X_test = sc.transform(X_test)\n",
    "\n",
    "# Binary Classifier - Logistic Regression for Binary Classification\n",
    "logistic_model_binary = LogisticRegression()\n",
    "logistic_model_binary.fit(X_train, y_train)\n",
    "logistic_predictions_binary = logistic_model_binary.predict(X_test)\n",
    "\n",
    "# Calculate metrics\n",
    "logistic_accuracy_binary = accuracy_score(y_test, logistic_predictions_binary)\n",
    "conf_matrix = confusion_matrix(y_test, logistic_predictions_binary)\n",
    "class_report = classification_report(y_test, logistic_predictions_binary)\n",
    "\n",
    "# Print metrics\n",
    "print(\"Binary Classification - Logistic Regression Accuracy:\", logistic_accuracy_binary)\n",
    "print(\"Confusion Matrix:\\n\", conf_matrix)\n",
    "print(\"Classification Report:\\n\", class_report)\n"
   ]
  },
  {
   "cell_type": "code",
   "execution_count": null,
   "id": "8487fe95-ec6c-4bea-8b39-bbb5934655b6",
   "metadata": {},
   "outputs": [],
   "source": []
  }
 ],
 "metadata": {
  "kernelspec": {
   "display_name": "Python 3 (ipykernel)",
   "language": "python",
   "name": "python3"
  },
  "language_info": {
   "codemirror_mode": {
    "name": "ipython",
    "version": 3
   },
   "file_extension": ".py",
   "mimetype": "text/x-python",
   "name": "python",
   "nbconvert_exporter": "python",
   "pygments_lexer": "ipython3",
   "version": "3.11.7"
  }
 },
 "nbformat": 4,
 "nbformat_minor": 5
}
